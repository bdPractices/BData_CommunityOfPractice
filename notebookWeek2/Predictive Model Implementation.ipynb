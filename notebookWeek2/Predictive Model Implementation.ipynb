{
 "metadata": {
  "name": "",
  "signature": "sha256:3cb667f34765b353a0139d414b4ad6d7328fb10994ca3e875bd26085cd3f6534"
 },
 "nbformat": 3,
 "nbformat_minor": 0,
 "worksheets": [
  {
   "cells": [
    {
     "cell_type": "heading",
     "level": 1,
     "metadata": {},
     "source": [
      "Sourcing Predictive Model implementation"
     ]
    },
    {
     "cell_type": "code",
     "collapsed": false,
     "input": [],
     "language": "python",
     "metadata": {},
     "outputs": []
    }
   ],
   "metadata": {}
  }
 ]
}