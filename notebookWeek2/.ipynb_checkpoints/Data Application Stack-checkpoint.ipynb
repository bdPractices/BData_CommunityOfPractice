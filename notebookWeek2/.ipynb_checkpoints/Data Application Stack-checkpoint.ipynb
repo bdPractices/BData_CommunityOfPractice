{
 "metadata": {
  "name": "",
  "signature": "sha256:5f3879282683a8825580d4e47fe1edda1855e01b9b8dfff397ff66ad207e49ab"
 },
 "nbformat": 3,
 "nbformat_minor": 0,
 "worksheets": [
  {
   "cells": [
    {
     "cell_type": "heading",
     "level": 1,
     "metadata": {},
     "source": [
      "Intelligent Sourcing Application"
     ]
    },
    {
     "cell_type": "markdown",
     "metadata": {},
     "source": [
      "The proposed stack for our app will be the following:"
     ]
    },
    {
     "cell_type": "markdown",
     "metadata": {},
     "source": [
      "<img src=\"resources/AppWorkFlow.png\" alt=\"App workflow image\">"
     ]
    },
    {
     "cell_type": "heading",
     "level": 2,
     "metadata": {},
     "source": [
      "Events"
     ]
    },
    {
     "cell_type": "markdown",
     "metadata": {},
     "source": [
      "Each individual piece of data (LinkedIn profiles, in our case) is called an event; sources produce events. The events will be serialized using a serialization system called Avro. Avro allow us to access our data in a common format across languages and tools."
     ]
    },
    {
     "cell_type": "heading",
     "level": 2,
     "metadata": {},
     "source": [
      "Collection & Ingestion"
     ]
    },
    {
     "cell_type": "code",
     "collapsed": false,
     "input": [],
     "language": "python",
     "metadata": {},
     "outputs": []
    }
   ],
   "metadata": {}
  }
 ]
}