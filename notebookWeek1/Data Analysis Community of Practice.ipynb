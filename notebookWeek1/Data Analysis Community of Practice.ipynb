{
 "metadata": {
  "name": "",
  "signature": "sha256:ddf9c1e671c7650db805c034ef17ceb36b54feb65d0f87cd44b54ddc0672d699"
 },
 "nbformat": 3,
 "nbformat_minor": 0,
 "worksheets": [
  {
   "cells": [
    {
     "cell_type": "heading",
     "level": 1,
     "metadata": {},
     "source": [
      "Intelligent Sourcing                    \n",
      "Data Aggregation Project"
     ]
    },
    {
     "cell_type": "heading",
     "level": 2,
     "metadata": {},
     "source": [
      "Data Analysis process"
     ]
    },
    {
     "cell_type": "heading",
     "level": 3,
     "metadata": {},
     "source": [
      "1. Ask an interesting question"
     ]
    },
    {
     "cell_type": "markdown",
     "metadata": {},
     "source": [
      "- What is the scientific goal?\n",
      "- What would you do if you had all the data?\n",
      "- What do you want to predict or estimate?"
     ]
    },
    {
     "cell_type": "heading",
     "level": 3,
     "metadata": {},
     "source": [
      "2. Get the data"
     ]
    },
    {
     "cell_type": "markdown",
     "metadata": {},
     "source": [
      "- How were the data sampled?\n",
      "- Which data are relevant?\n",
      "- Are there privacy issues?"
     ]
    },
    {
     "cell_type": "heading",
     "level": 3,
     "metadata": {},
     "source": [
      "3. Explore the data"
     ]
    },
    {
     "cell_type": "markdown",
     "metadata": {},
     "source": [
      "- Plot the data\n",
      "- Are there anomalies?\n",
      "- Are there patterns?"
     ]
    },
    {
     "cell_type": "heading",
     "level": 3,
     "metadata": {},
     "source": [
      "4. Model the data"
     ]
    },
    {
     "cell_type": "markdown",
     "metadata": {},
     "source": [
      "- Build a model\n",
      "- Fit the model\n",
      "- Validate the model"
     ]
    },
    {
     "cell_type": "heading",
     "level": 3,
     "metadata": {},
     "source": [
      "5. Communicate and visualize the results"
     ]
    },
    {
     "cell_type": "markdown",
     "metadata": {},
     "source": [
      "- What did you learn?\n",
      "- Do the results make sense?\n",
      "- Can we tell a story?"
     ]
    },
    {
     "cell_type": "heading",
     "level": 2,
     "metadata": {},
     "source": [
      "Big Data Engineering"
     ]
    },
    {
     "cell_type": "markdown",
     "metadata": {},
     "source": [
      "<img src=\"resourcesPresentation/big-data-is-not-rocket-science-6-1024.jpg\">"
     ]
    },
    {
     "cell_type": "code",
     "collapsed": false,
     "input": [],
     "language": "python",
     "metadata": {},
     "outputs": [],
     "prompt_number": 13
    }
   ],
   "metadata": {}
  }
 ]
}