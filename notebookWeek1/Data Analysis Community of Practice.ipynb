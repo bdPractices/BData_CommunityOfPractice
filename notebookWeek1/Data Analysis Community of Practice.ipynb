{
 "metadata": {
  "name": "",
  "signature": "sha256:10812e5874b2961a474d31a6fd128b6dbed321e1ef64927a13b916175fd42cb4"
 },
 "nbformat": 3,
 "nbformat_minor": 0,
 "worksheets": [
  {
   "cells": [
    {
     "cell_type": "heading",
     "level": 1,
     "metadata": {},
     "source": [
      "Intelligent Sourcing                    \n",
      "Data Aggregation Project"
     ]
    },
    {
     "cell_type": "heading",
     "level": 2,
     "metadata": {},
     "source": [
      "Data Analysis maturity model"
     ]
    },
    {
     "cell_type": "markdown",
     "metadata": {},
     "source": [
      "<img src=\"resourcesPresentation/AnalysisValueChain.jpg\">"
     ]
    },
    {
     "cell_type": "heading",
     "level": 2,
     "metadata": {},
     "source": [
      "Data Analysis process"
     ]
    },
    {
     "cell_type": "heading",
     "level": 3,
     "metadata": {},
     "source": [
      "1. Ask an interesting question"
     ]
    },
    {
     "cell_type": "markdown",
     "metadata": {},
     "source": [
      "- What is the scientific goal?\n",
      "- What would you do if you had all the data?\n",
      "- What do you want to predict or estimate?"
     ]
    },
    {
     "cell_type": "heading",
     "level": 3,
     "metadata": {},
     "source": [
      "2. Get the data"
     ]
    },
    {
     "cell_type": "markdown",
     "metadata": {},
     "source": [
      "- How were the data sampled?\n",
      "- Which data are relevant?\n",
      "- Are there privacy issues?"
     ]
    },
    {
     "cell_type": "heading",
     "level": 3,
     "metadata": {},
     "source": [
      "3. Explore the data"
     ]
    },
    {
     "cell_type": "markdown",
     "metadata": {},
     "source": [
      "- Plot the data\n",
      "- Are there anomalies?\n",
      "- Are there patterns?"
     ]
    },
    {
     "cell_type": "heading",
     "level": 3,
     "metadata": {},
     "source": [
      "4. Model the data"
     ]
    },
    {
     "cell_type": "markdown",
     "metadata": {},
     "source": [
      "- Build a model\n",
      "- Fit the model\n",
      "- Validate the model"
     ]
    },
    {
     "cell_type": "heading",
     "level": 3,
     "metadata": {},
     "source": [
      "5. Communicate and visualize the results"
     ]
    },
    {
     "cell_type": "markdown",
     "metadata": {},
     "source": [
      "- What did you learn?\n",
      "- Do the results make sense?\n",
      "- Can we tell a story?"
     ]
    },
    {
     "cell_type": "heading",
     "level": 2,
     "metadata": {},
     "source": [
      "Data analysis engineering"
     ]
    },
    {
     "cell_type": "markdown",
     "metadata": {},
     "source": [
      "<img src=\"resourcesPresentation/big-data-is-not-rocket-science-6-1024.jpg\">"
     ]
    },
    {
     "cell_type": "markdown",
     "metadata": {},
     "source": [
      "<img src=\"resourcesPresentation/AirBnBWrokflow1.png\">"
     ]
    },
    {
     "cell_type": "markdown",
     "metadata": {},
     "source": [
      "Source: http://nerds.airbnb.com/architecting-machine-learning-system-risk/"
     ]
    },
    {
     "cell_type": "heading",
     "level": 1,
     "metadata": {},
     "source": [
      "Community of practice case study"
     ]
    },
    {
     "cell_type": "heading",
     "level": 2,
     "metadata": {},
     "source": [
      "Question"
     ]
    },
    {
     "cell_type": "heading",
     "level": 3,
     "metadata": {},
     "source": [
      "What is the availability index of a candidate?"
     ]
    },
    {
     "cell_type": "heading",
     "level": 2,
     "metadata": {},
     "source": [
      "Data"
     ]
    },
    {
     "cell_type": "markdown",
     "metadata": {},
     "source": [
      "- LinkedIn profiles\n",
      "- Sample data"
     ]
    },
    {
     "cell_type": "heading",
     "level": 2,
     "metadata": {},
     "source": [
      "Exploration"
     ]
    },
    {
     "cell_type": "code",
     "collapsed": false,
     "input": [
      "%matplotlib inline"
     ],
     "language": "python",
     "metadata": {},
     "outputs": [],
     "prompt_number": 1
    },
    {
     "cell_type": "code",
     "collapsed": false,
     "input": [
      "import math\n",
      "import json\n",
      "import matplotlib.pyplot as plt\n",
      "\n",
      "json_data=open('resourcesPresentation/candidateSample.json')\n",
      "data=json.load(json_data)\n",
      "    \n",
      "currentPeriod = []\n",
      "age = []\n",
      "for candidate in data:\n",
      "    currentPeriod.append(candidate[\"currentJobPeriod\"])\n",
      "    age.append(candidate[\"age\"])\n",
      "\n",
      "plt.plot(age, currentPeriod, 'ro')\n",
      "plt.ylabel('Current job Period')\n",
      "plt.xlabel('age')\n",
      "plt.title('Candidates current job periods by age')\n",
      "plt.show()"
     ],
     "language": "python",
     "metadata": {},
     "outputs": [
      {
       "metadata": {},
       "output_type": "display_data",
       "png": "[encoded data removed]",
       "text": [
        "<matplotlib.figure.Figure at 0x10e124910>"
       ]
      }
     ],
     "prompt_number": 5
    },
    {
     "cell_type": "code",
     "collapsed": false,
     "input": [
      "import math\n",
      "import json\n",
      "import matplotlib.pyplot as plt\n",
      "import numpy as np\n",
      "\n",
      "json_data=open('resourcesPresentation/candidateSample.json')\n",
      "data=json.load(json_data)\n",
      "    \n",
      "y = []\n",
      "countries = []\n",
      "i = 0\n",
      "for candidate in data:\n",
      "    if candidate[\"currentLocation\"] not in countries:\n",
      "        countries.append(candidate[\"currentLocation\"])\n",
      "        y.append(1)\n",
      "    else:\n",
      "        i = countries.index(candidate[\"currentLocation\"])\n",
      "        y[i]+=1\n",
      "\n",
      "plt.bar(range(len(y)), y, align='center')\n",
      "plt.xticks(range(len(countries)), countries, size='small', rotation='vertical')\n",
      "plt.title('Candidates current location')\n",
      "plt.ylabel('Number of candidates')\n",
      "plt.show()"
     ],
     "language": "python",
     "metadata": {},
     "outputs": [
      {
       "metadata": {},
       "output_type": "display_data",
       "png": "[encoded data removed]",
       "text": [
        "<matplotlib.figure.Figure at 0x10d640f90>"
       ]
      }
     ],
     "prompt_number": 6
    },
    {
     "cell_type": "heading",
     "level": 2,
     "metadata": {},
     "source": [
      "Predictive Models"
     ]
    },
    {
     "cell_type": "markdown",
     "metadata": {},
     "source": [
      "Statistical models are oversimplifications that have some meaning and predicting power"
     ]
    },
    {
     "cell_type": "heading",
     "level": 3,
     "metadata": {},
     "source": [
      "Choosing a model"
     ]
    },
    {
     "cell_type": "markdown",
     "metadata": {},
     "source": [
      "<img src=\"resourcesPresentation/ml_map_analysis.png\">"
     ]
    },
    {
     "cell_type": "heading",
     "level": 2,
     "metadata": {},
     "source": [
      "Proposed Models"
     ]
    },
    {
     "cell_type": "markdown",
     "metadata": {},
     "source": [
      "- Neural Network\n",
      "- k-Nearest Neighbors\n",
      "- Random Forests"
     ]
    },
    {
     "cell_type": "heading",
     "level": 2,
     "metadata": {},
     "source": [
      "Neural Network "
     ]
    },
    {
     "cell_type": "markdown",
     "metadata": {},
     "source": [
      "- Supervised method\n",
      "- Multilayer perceptron network\n",
      "    - Layer of input neurons that feed into one or more layers of hidden neurons.\n",
      "    - The higher the weight of a synapse leading from one neuron to the next, the more influence it will have on the output of that neuron."
     ]
    },
    {
     "cell_type": "heading",
     "level": 3,
     "metadata": {},
     "source": [
      "Availability network "
     ]
    },
    {
     "cell_type": "markdown",
     "metadata": {},
     "source": [
      "<img src=\"resourcesPresentation/AvailabilityNetwork.png\">"
     ]
    },
    {
     "cell_type": "heading",
     "level": 3,
     "metadata": {},
     "source": [
      "Strengths and Weaknesses "
     ]
    },
    {
     "cell_type": "markdown",
     "metadata": {},
     "source": [
      "Strengths\n",
      "- Handle complex non-linear functions and discover dependencies between different inputs.\n",
      "- Can estimate numbers as outputs.\n",
      "- Support for incremental training - they can start with random weights. (Backpropagation)\n",
      "\n",
      "Weaknesses\n",
      "- Black box method\n",
      "- No rules for choosing the training rate and network size "
     ]
    },
    {
     "cell_type": "heading",
     "level": 2,
     "metadata": {},
     "source": [
      "k-Nearest neighbors "
     ]
    },
    {
     "cell_type": "markdown",
     "metadata": {},
     "source": [
      "- Works by comparison\n",
      "    - Takes a new item for which you want a numerical prediction and calculates the result comparing it to a set of items which already has values for.\n",
      "    - Similarity function\n",
      "- k indicates the number of top-matches will be used for averaging.\n",
      "- We can also have weighted averages based on how far away the neighbors are. \n",
      "- Scaling to balance the influence of variables. "
     ]
    },
    {
     "cell_type": "heading",
     "level": 3,
     "metadata": {},
     "source": [
      "Strengths and Weaknesses "
     ]
    },
    {
     "cell_type": "markdown",
     "metadata": {},
     "source": [
      "Strengths\n",
      "- Handle numerical predictions for complex functions and still remain easy to interpret.\n",
      "\n",
      "Weaknesses\n",
      "- Requires all the training data to be present.\n",
      "- Slow process for some applications. "
     ]
    },
    {
     "cell_type": "heading",
     "level": 2,
     "metadata": {},
     "source": [
      "Random Forests"
     ]
    },
    {
     "cell_type": "markdown",
     "metadata": {},
     "source": [
      "Random forests are ensembles of decision trees. Random forests are one of the most successful machine learning models for classification and regression. They combine many decision trees in order to reduce the risk of overfitting. \n",
      "\n",
      "Like decision trees, random forests handle categorical features, extend to the multiclass classification setting, do not require feature scaling, and are able to capture non-linearities and feature interactions.\n",
      "\n",
      "- http://scikit-learn.org/stable/modules/tree.html\n",
      "- https://spark.apache.org/docs/latest/mllib-decision-tree.html\n",
      "- http://scikit-learn.org/stable/modules/ensemble.html\n",
      "- https://spark.apache.org/docs/latest/mllib-ensembles.html"
     ]
    },
    {
     "cell_type": "markdown",
     "metadata": {},
     "source": [
      "<img src=\"resourcesPresentation/random_Forests.jpg\">"
     ]
    },
    {
     "cell_type": "heading",
     "level": 3,
     "metadata": {},
     "source": [
      "Decision Tree Classifier"
     ]
    },
    {
     "cell_type": "markdown",
     "metadata": {},
     "source": [
      "Decision trees are notable for being extremely easy to understand and interpret."
     ]
    },
    {
     "cell_type": "heading",
     "level": 4,
     "metadata": {},
     "source": [
      "Keys to build a decision tree"
     ]
    },
    {
     "cell_type": "markdown",
     "metadata": {},
     "source": [
      "Decide which of the variables divides the data best, although larger datasets will not always have clean divisions.\n",
      "\n",
      "Measuring how good is a division can be done using the concept of entropy (the amount of disorder in a set)\n",
      "\n",
      "- p(i) = frequency(outcome) = count(outcome) / count(total rows)\n",
      "- Entropy = sum of p(i)*log(p(i)) for all outcomes\n",
      "\n",
      "A low entropy within a set tells you that the set is mostly homogeneous, and a value of 0 means that it consists of entirely one type of item\n",
      "\n",
      "The entropy for each set is used to calculate the information gain, which is defined as:\n",
      "- weight1 = size of subset1 / size of original set\n",
      "- weight2 = size of subset2 / size of original set\n",
      "- gain = entropy(original) - weight1*entropy(set1) - weight2*entropy(set2)\n",
      "\n",
      "So each possible division, the information gain is calculated and used to determine the dividing variable. The process repeats until there is no information gain from dividing up the data on a given branch."
     ]
    },
    {
     "cell_type": "heading",
     "level": 3,
     "metadata": {},
     "source": [
      "Strengths and Weaknesses "
     ]
    },
    {
     "cell_type": "markdown",
     "metadata": {},
     "source": [
      "Strengths\n",
      "- Easy to interpret and how well the algorithm brings important factors to the top of the tree.\n",
      "- The ability to mix categorical and numerical data is useful for many classes of problems.\n",
      "- They can easily cope with interactions of variables.\n",
      "\n",
      "Weaknesses\n",
      "- Can divide the data into mean variables with the lowest variance, but if the data is complex, the tree will have to get very large before it is able to make accurate decisions\n",
      "- Does not support for incremental training (Spark alternative)"
     ]
    },
    {
     "cell_type": "heading",
     "level": 2,
     "metadata": {},
     "source": [
      "Model building Pipeline"
     ]
    },
    {
     "cell_type": "markdown",
     "metadata": {},
     "source": [
      "<img src=\"resourcesPresentation/AirBnBWorkflow2.png\">"
     ]
    },
    {
     "cell_type": "heading",
     "level": 3,
     "metadata": {},
     "source": [
      "More information about PMML"
     ]
    },
    {
     "cell_type": "markdown",
     "metadata": {},
     "source": [
      ". https://hadoopsummit.uservoice.com/forums/283261-data-science-and-hadoop/suggestions/7074084"
     ]
    },
    {
     "cell_type": "code",
     "collapsed": false,
     "input": [],
     "language": "python",
     "metadata": {},
     "outputs": []
    }
   ],
   "metadata": {}
  }
 ]
}