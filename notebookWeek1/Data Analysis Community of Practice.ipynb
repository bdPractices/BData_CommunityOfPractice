{
 "metadata": {
  "name": "",
  "signature": "sha256:81b7b8e7d34db297c783b5b31970a19330e287ca664a7b62e1e265690ecf0c1d"
 },
 "nbformat": 3,
 "nbformat_minor": 0,
 "worksheets": [
  {
   "cells": [
    {
     "cell_type": "heading",
     "level": 1,
     "metadata": {},
     "source": [
      "Intelligent Sourcing                    \n",
      "Data Aggregation Project"
     ]
    },
    {
     "cell_type": "heading",
     "level": 2,
     "metadata": {},
     "source": [
      "Data Analysis process"
     ]
    },
    {
     "cell_type": "heading",
     "level": 3,
     "metadata": {},
     "source": [
      "1. Ask an interesting question"
     ]
    },
    {
     "cell_type": "markdown",
     "metadata": {},
     "source": [
      "- What is the scientific goal?\n",
      "- What would you do if you had all the data?\n",
      "- What do you want to predict or estimate?"
     ]
    },
    {
     "cell_type": "heading",
     "level": 3,
     "metadata": {},
     "source": [
      "2. Get the data"
     ]
    },
    {
     "cell_type": "markdown",
     "metadata": {},
     "source": [
      "- How were the data sampled?\n",
      "- Which data are relevant?\n",
      "- Are there privacy issues?"
     ]
    },
    {
     "cell_type": "heading",
     "level": 3,
     "metadata": {},
     "source": [
      "3. Explore the data"
     ]
    },
    {
     "cell_type": "markdown",
     "metadata": {},
     "source": [
      "- Plot the data\n",
      "- Are there anomalies?\n",
      "- Are there patterns?"
     ]
    },
    {
     "cell_type": "heading",
     "level": 3,
     "metadata": {},
     "source": [
      "4. Model the data"
     ]
    },
    {
     "cell_type": "markdown",
     "metadata": {},
     "source": [
      "- Build a model\n",
      "- Fit the model\n",
      "- Validate the model"
     ]
    },
    {
     "cell_type": "heading",
     "level": 3,
     "metadata": {},
     "source": [
      "5. Communicate and visualize the results"
     ]
    },
    {
     "cell_type": "markdown",
     "metadata": {},
     "source": [
      "- What did you learn?\n",
      "- Do the results make sense?\n",
      "- Can we tell a story?"
     ]
    },
    {
     "cell_type": "heading",
     "level": 2,
     "metadata": {},
     "source": [
      "Big Data Engineering"
     ]
    },
    {
     "cell_type": "markdown",
     "metadata": {},
     "source": [
      "<img src=\"resourcesPresentation/big-data-is-not-rocket-science-6-1024.jpg\">"
     ]
    },
    {
     "cell_type": "heading",
     "level": 2,
     "metadata": {},
     "source": [
      "Question"
     ]
    },
    {
     "cell_type": "heading",
     "level": 3,
     "metadata": {},
     "source": [
      "What is the availability index of a candidate?"
     ]
    },
    {
     "cell_type": "heading",
     "level": 2,
     "metadata": {},
     "source": [
      "Data"
     ]
    },
    {
     "cell_type": "markdown",
     "metadata": {},
     "source": [
      "- LinkedIn profiles\n",
      "- Sample data"
     ]
    },
    {
     "cell_type": "heading",
     "level": 2,
     "metadata": {},
     "source": [
      "Proposed Models"
     ]
    },
    {
     "cell_type": "markdown",
     "metadata": {},
     "source": [
      "- Bayesian Classifier\n",
      "- Neural Network\n",
      "- k-Nearest Neighbors"
     ]
    },
    {
     "cell_type": "heading",
     "level": 2,
     "metadata": {},
     "source": [
      "Bayesian Classifier"
     ]
    },
    {
     "cell_type": "markdown",
     "metadata": {},
     "source": [
      "- Supervised method\n",
      "- Keeps track of all the features it has seen so far along with the numerical probability that the features are associated with  a particular classification.\n",
      "- Work on any dataset that can be turned into lists of features. \n",
      "    - A feature is something that is either present or absent from a given item.\n",
      "- Combination of the features probabilities into a single probability"
     ]
    },
    {
     "cell_type": "heading",
     "level": 3,
     "metadata": {},
     "source": [
      "Na\u00efve Bayes method"
     ]
    },
    {
     "cell_type": "markdown",
     "metadata": {},
     "source": [
      "- Availability Category: Yes / No\n",
      "- P (Available | Candidate) = Pr (Candidate | Available) * Pr (Available) / Pr (Candidate)\n",
      "- Pr (Candidate | Available) = Pr (age | Available) * Pr ( CurrentJobPeriod | Available) * \u2026"
     ]
    },
    {
     "cell_type": "heading",
     "level": 3,
     "metadata": {},
     "source": [
      "Strengths and Weaknesses"
     ]
    },
    {
     "cell_type": "markdown",
     "metadata": {},
     "source": [
      "Strengths\n",
      "- Speed at which they can be trained and queried with large datasets.\n",
      "- Support for incremental training - each new piece of training data can be used to update the probabilities without using any of the old training data. \n",
      "\n",
      "Weaknesses\n",
      "- Inability to deal with outcomes that change based on combination of features"
     ]
    },
    {
     "cell_type": "heading",
     "level": 2,
     "metadata": {},
     "source": [
      "Neural Network "
     ]
    },
    {
     "cell_type": "markdown",
     "metadata": {},
     "source": [
      "- Supervised method\n",
      "- Multilayer perceptron network\n",
      "    - Layer of input neurons that feed into one or more layers of hidden neurons.\n",
      "    - The higher the weight of a synapse leading from one neuron to the next, the more influence it will have on the output of that neuron."
     ]
    },
    {
     "cell_type": "heading",
     "level": 3,
     "metadata": {},
     "source": [
      "Availability network "
     ]
    },
    {
     "cell_type": "markdown",
     "metadata": {},
     "source": [
      "<img src=\"resourcesPresentation/AvailabilityNetwork.png\">"
     ]
    },
    {
     "cell_type": "heading",
     "level": 3,
     "metadata": {},
     "source": [
      "Strengths and Weaknesses "
     ]
    },
    {
     "cell_type": "markdown",
     "metadata": {},
     "source": [
      "Strengths\n",
      "- Handle complex non-linear functions and discover dependencies between different inputs.\n",
      "- Can estimate numbers as outputs.\n",
      "- Support for incremental training - they can start with random weights. (Backpropagation)\n",
      "\n",
      "Weaknesses\n",
      "- Black box method\n",
      "- No rules for choosing the training rate and network size "
     ]
    },
    {
     "cell_type": "heading",
     "level": 3,
     "metadata": {},
     "source": [
      "k-Nearest neighbors "
     ]
    },
    {
     "cell_type": "markdown",
     "metadata": {},
     "source": [
      "- Works by comparison\n",
      "    - Takes a new item for which you want a numerical prediction and calculates the result comparing it to a set of items which already has values for.\n",
      "    - Similarity function\n",
      "- k indicates the number of top-matches will be used for averaging.\n",
      "- We can also have weighted averages based on how far away the neighbors are. \n",
      "- Scaling to balance the influence of variables. "
     ]
    },
    {
     "cell_type": "heading",
     "level": 3,
     "metadata": {},
     "source": [
      "Strengths and Weaknesses "
     ]
    },
    {
     "cell_type": "markdown",
     "metadata": {},
     "source": [
      "Strengths\n",
      "- Handle numerical predictions for complex functions and still remain easy to interpret.\n",
      "\n",
      "Weaknesses\n",
      "- Requires all the training data to be present.\n",
      "- Slow process for some applications. "
     ]
    },
    {
     "cell_type": "heading",
     "level": 2,
     "metadata": {},
     "source": [
      "Singular Value Decompositions ( SVD++ Netflix Price winner)"
     ]
    },
    {
     "cell_type": "markdown",
     "metadata": {},
     "source": [
      "Def"
     ]
    },
    {
     "cell_type": "heading",
     "level": 2,
     "metadata": {},
     "source": [
      "Support Vector Machines "
     ]
    },
    {
     "cell_type": "markdown",
     "metadata": {},
     "source": [
      "def"
     ]
    },
    {
     "cell_type": "code",
     "collapsed": false,
     "input": [],
     "language": "python",
     "metadata": {},
     "outputs": []
    }
   ],
   "metadata": {}
  }
 ]
}